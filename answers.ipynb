{
 "cells": [
  {
   "cell_type": "markdown",
   "metadata": {},
   "source": [
    "# Answers\n",
    "\n",
    "You can edit this Jupyter notebook to include your answers and run any code that generates those answers or produces plots.  You can add additional cells for code or markdown as needed."
   ]
  },
  {
   "cell_type": "markdown",
   "metadata": {},
   "source": [
    "Finding the global or local minimizer for a specific function is an ubiquitous task in applied sciences. Given a potential function $V(x)$,\n",
    "\\begin{equation}\n",
    "V(x) = (x^2-1)^2,\n",
    "\\end{equation}\n",
    "which is usually referred as the \"double-well\" potential. As locally convex function, it has two minimizers located in -1 and 1. There are multiple ways to find the minimizers of the function"
   ]
  },
  {
   "cell_type": "markdown",
   "metadata": {},
   "source": [
    "## Problem 0\n",
    "\n",
    "### Part A\n",
    "For a convex function or locally convex function, simple [gradient descent](https://en.wikipedia.org/wiki/Gradient_descent) with proper initial guess is a good candidate of minimization algorithm. Assume one starts with initial guess $x_0$, the gradient descent algorithm seeks a sequence of points $x_1,x_2,\\cdots,x_n$ such that $x_{n}=x_{n-1} - \\alpha_{n-1}\\nabla V(x_{n-1})$, where $\\alpha_{n-1}$ is the step size and $\\nabla (x_{n-1})$ is the gradient of the given potential function at the current point. This procedure can also be considered as the **gradient flow** dynamics in the continuous sense:\n",
    "\\begin{equation}\n",
    "\\frac{dx_t}{dt} = -\\nabla V(x_t).\n",
    "\\end{equation}\n",
    "Try to find the minimizers of the double-well potential function by simulating the gradient flow ODE dynamics. Note that different initializations may lead to different minimizers (falling into different potential wells). You can use Scipy's ODE solver [`solve_ipv`](https://docs.scipy.org/doc/scipy/reference/generated/scipy.integrate.solve_ivp.html) with your preferred method or the Forward Euler solver you implemented in HW4.\n",
    "\n",
    "### Part B\n",
    "Another approach is the Newton's method we have covered in the class. We can also find the minimizers of the function by computing the critical points of its gradient. Write a function to use Newton's method to recover both local minimizers of $V$."
   ]
  },
  {
   "cell_type": "code",
   "execution_count": null,
   "metadata": {},
   "outputs": [],
   "source": []
  },
  {
   "cell_type": "markdown",
   "metadata": {},
   "source": [
    "## Problem 1\n",
    "\n",
    "### Part A\n",
    "Consider the following stochastic differential equation\n",
    "\\begin{equation}\n",
    "dX_t = -\\nabla V(X_t) dt + \\sqrt{2\\beta^{-1}} dW_t\n",
    "\\end{equation}\n",
    "where $X_t\\in\\mathbb{R}$ is the state of the system, $W_t$ is a one-dimensional Wiener process and $\\beta$ is a constant. This process is usually referred as the overdamped Langevin process. Show the invariant distribution of the system is given by the Boltzmann-Gibbs distribution\n",
    "\\begin{equation}\n",
    "p(x) \\propto \\exp{(-\\beta V(x))}.\n",
    "\\end{equation}\n",
    "\n",
    "### Part B\n",
    "We can generate random samples from the Boltzmann-Gibbs distribution via MCMC simulation the overdamped Langevin process. Please read the [Euler-Maruyama method](https://en.wikipedia.org/wiki/Euler%E2%80%93Maruyama_method) and [Metropolis-adjusted Langevin algorithm](https://en.wikipedia.org/wiki/Metropolis-adjusted_Langevin_algorithm) (MALA) for two ways to generate random samples from the Langevin process. A template of the Langevin sampler can be found in the `sampler.py` file. Complete the `langevinSampler` class and generate $10^3$ random samples using Euler-Maruyama method and MALA algorithm respectively for $\\beta=0.5$. Visualize the random samples using scatter plots and histogram. What do you observe and how do you explain your findings?"
   ]
  },
  {
   "cell_type": "code",
   "execution_count": null,
   "metadata": {},
   "outputs": [],
   "source": [
    "from sampler import *"
   ]
  },
  {
   "cell_type": "code",
   "execution_count": null,
   "metadata": {},
   "outputs": [],
   "source": []
  },
  {
   "cell_type": "markdown",
   "metadata": {},
   "source": [
    "## Problem 2\n",
    "The Fokker-Planck equation characterizes the evolution of the distribution of the samples. For the overdamped Langevin process discussed above, the corresponding Fokker-Planck equation is given by \n",
    "\\begin{equation}\n",
    "\\frac{\\partial p}{\\partial t} = \\nabla \\cdot (\\nabla Vp) + \\frac{1}{\\beta} \\Delta p.\n",
    "\\end{equation}\n",
    "Solve the 1-dimensional Fokker-Planck PDE for the double-well potential $V$ and $\\beta$ on domain $[-3,3]$ using finite difference discretization. We can use the standard normal distribution as the initial condition for the PDE: $p(x,0)=\\frac{1}{\\sqrt{2\\pi}} \\exp(-\\frac{x^2}{2})$ and $p(-3,t)=p(3,t)=0$ as boundary condition.\n",
    "\n",
    "Please implement a PDE solver for numerical solution of Fokker-Planck equation using simple explicit finite difference scheme. Use grid size $\\Delta x=0.05$ for the $x$ dimension and $\\Delta t$ sufficiently small to ensure numerical stability. Construct a **sparse** finite difference matrix $M$ therefore the update for each time step can be done via single matrix-vector product. After each update, normalize the solution $p(x,t)$ to ensure numerically $\\int_{-3}^{3}p(x,t)dx=1$.\n",
    "\n",
    "Show the time evolution of the distribution by plotting solutions $p(\\cdot,t)$ for several different time $t\\in[0,0.8]$. Compare the solution $p(x,t)$ at $t=0.8$, the Boltzmann-Gibbs distribution and the histograms you obtained from the samples. What do you find?"
   ]
  },
  {
   "cell_type": "code",
   "execution_count": null,
   "metadata": {},
   "outputs": [],
   "source": []
  }
 ],
 "metadata": {
  "kernelspec": {
   "display_name": "Python 3 (ipykernel)",
   "language": "python",
   "name": "python3"
  },
  "language_info": {
   "codemirror_mode": {
    "name": "ipython",
    "version": 3
   },
   "file_extension": ".py",
   "mimetype": "text/x-python",
   "name": "python",
   "nbconvert_exporter": "python",
   "pygments_lexer": "ipython3",
   "version": "3.9.7"
  }
 },
 "nbformat": 4,
 "nbformat_minor": 4
}
